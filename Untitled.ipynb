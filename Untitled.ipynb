{
 "cells": [
  {
   "source": [
    "import sympy\n",
    "from sympy import *\n",
    "import math"
   ],
   "cell_type": "code",
   "metadata": {},
   "execution_count": 5,
   "outputs": []
  },
  {
   "cell_type": "code",
   "execution_count": 23,
   "id": "c99e2d51",
   "metadata": {},
   "outputs": [],
   "source": [
    "r,theta, phi =sympy.symbols('r,\\\\theta,\\\\phi', real=True)\n",
    "s_d1,s_d2,s_r = sympy.symbols('\\sigma_{d1},\\sigma_{d2},\\sigma_r', real=True)\n",
    "f = sympy.Matrix([[r * sympy.sin(theta)* sympy.sin(phi)],\n",
    "                 [r * sympy.sin(theta)* sympy.cos(phi)],\n",
    "                 [r * sympy.cos(theta)]])"
   ]
  },
  {
   "cell_type": "code",
   "execution_count": 24,
   "id": "54acd076",
   "metadata": {},
   "outputs": [],
   "source": [
    "E = sympy.Matrix([[s_r*s_r,0,0],[0,s_d1*s_d1,0],[0,0,s_d2*s_d2]])"
   ]
  },
  {
   "cell_type": "code",
   "execution_count": 25,
   "metadata": {},
   "outputs": [],
   "source": [
    "F = f.jacobian([r,theta,phi])"
   ]
  },
  {
   "cell_type": "code",
   "execution_count": 13,
   "id": "1b6ed2fe",
   "metadata": {},
   "outputs": [
    {
     "output_type": "stream",
     "name": "stdout",
     "text": [
      "\\left[\\begin{matrix}\\sin{\\left(\\phi \\right)} \\sin{\\left(\\theta \\right)} & r \\sin{\\left(\\phi \\right)} \\cos{\\left(\\theta \\right)} & r \\sin{\\left(\\theta \\right)} \\cos{\\left(\\phi \\right)}\\\\\\sin{\\left(\\theta \\right)} \\cos{\\left(\\phi \\right)} & r \\cos{\\left(\\phi \\right)} \\cos{\\left(\\theta \\right)} & - r \\sin{\\left(\\phi \\right)} \\sin{\\left(\\theta \\right)}\\\\\\cos{\\left(\\theta \\right)} & - r \\sin{\\left(\\theta \\right)} & 0\\end{matrix}\\right]\n"
     ]
    }
   ],
   "source": [
    "print(sympy.latex(F))"
   ]
  },
  {
   "cell_type": "code",
   "execution_count": 14,
   "metadata": {},
   "outputs": [
    {
     "output_type": "execute_result",
     "data": {
      "text/plain": [
       "1.5707963267948966"
      ]
     },
     "metadata": {},
     "execution_count": 14
    }
   ],
   "source": [
    " math.radians(90)"
   ]
  },
  {
   "cell_type": "code",
   "execution_count": 27,
   "id": "0be4fa32",
   "metadata": {},
   "outputs": [
    {
     "output_type": "execute_result",
     "data": {
      "text/plain": [
       "Matrix([\n",
       "[4.062,         0,         0],\n",
       "[    0,       4.0, -3.77e-18],\n",
       "[    0, -3.77e-18,     4.062]])"
      ],
      "text/latex": "$\\displaystyle \\left[\\begin{matrix}4.062 & 0 & 0\\\\0 & 4.0 & -3.77 \\cdot 10^{-18}\\\\0 & -3.77 \\cdot 10^{-18} & 4.062\\end{matrix}\\right]$"
     },
     "metadata": {},
     "execution_count": 27
    }
   ],
   "source": [
    "E_p = F @ E @  F.transpose()\n",
    "E_p_20_0_0 = E_p.subs([\n",
    "    (s_d1, math.radians(0.1)/sympy.sqrt(3)),\n",
    "    (s_d2, math.radians(0.1)/sympy.sqrt(3)),\n",
    "    (s_r, 2),\n",
    "    (r,20*100), \n",
    "    (theta, math.radians(90)),\n",
    "    (phi, math.radians(0))]).evalf(4)\n",
    "E_p_20_0_0 "
   ]
  },
  {
   "cell_type": "code",
   "execution_count": 28,
   "id": "6cdc0f58",
   "metadata": {},
   "outputs": [
    {
     "output_type": "stream",
     "name": "stdout",
     "text": [
      "\\left[\\begin{matrix}4.062 & 0 & 0\\\\0 & 4.0 & -3.77 \\cdot 10^{-18}\\\\0 & -3.77 \\cdot 10^{-18} & 4.062\\end{matrix}\\right]\n"
     ]
    }
   ],
   "source": [
    "print(sympy.latex(E_p_20_0_0))"
   ]
  },
  {
   "cell_type": "code",
   "execution_count": 32,
   "metadata": {},
   "outputs": [
    {
     "output_type": "execute_result",
     "data": {
      "text/plain": [
       "Matrix([\n",
       "[   3.636,  0.1352, 0.006768],\n",
       "[  0.1352,   3.958,  0.01859],\n",
       "[0.006768, 0.01859,    4.054]])"
      ],
      "text/latex": "$\\displaystyle \\left[\\begin{matrix}3.636 & 0.1352 & 0.006768\\\\0.1352 & 3.958 & 0.01859\\\\0.006768 & 0.01859 & 4.054\\end{matrix}\\right]$"
     },
     "metadata": {},
     "execution_count": 32
    }
   ],
   "source": [
    "E_p = F @ E @ F.transpose()\n",
    "E_p_20_5_5 = E_p.subs([\n",
    "    (s_d1, math.radians(0.1)/sympy.sqrt(3)),\n",
    "    (s_d2, math.radians(0.1)/sympy.sqrt(3)),\n",
    "    (s_r, 2),\n",
    "    (r,20*100), \n",
    "    (theta, math.radians(110)),\n",
    "    (phi, math.radians(20))]).evalf(4)\n",
    "E_p_20_5_5 "
   ]
  },
  {
   "cell_type": "code",
   "execution_count": 33,
   "metadata": {},
   "outputs": [
    {
     "output_type": "stream",
     "name": "stdout",
     "text": [
      "\\left[\\begin{matrix}3.636 & 0.1352 & 0.006768\\\\0.1352 & 3.958 & 0.01859\\\\0.006768 & 0.01859 & 4.054\\end{matrix}\\right]\n"
     ]
    }
   ],
   "source": [
    "print(sympy.latex(E_p_20_5_5))"
   ]
  },
  {
   "cell_type": "code",
   "execution_count": null,
   "metadata": {},
   "outputs": [],
   "source": []
  }
 ],
 "metadata": {
  "kernelspec": {
   "display_name": "Python 3",
   "language": "python",
   "name": "python3"
  },
  "language_info": {
   "codemirror_mode": {
    "name": "ipython",
    "version": 3
   },
   "file_extension": ".py",
   "mimetype": "text/x-python",
   "name": "python",
   "nbconvert_exporter": "python",
   "pygments_lexer": "ipython3",
   "version": "3.6.9-final"
  }
 },
 "nbformat": 4,
 "nbformat_minor": 5
}